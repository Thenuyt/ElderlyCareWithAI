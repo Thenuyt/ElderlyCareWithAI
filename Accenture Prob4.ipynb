{
  "nbformat": 4,
  "nbformat_minor": 0,
  "metadata": {
    "colab": {
      "provenance": []
    },
    "kernelspec": {
      "name": "python3",
      "display_name": "Python 3"
    },
    "language_info": {
      "name": "python"
    }
  },
  "cells": [
    {
      "cell_type": "code",
      "source": [
        "!pip install pandas matplotlib seaborn --quiet\n"
      ],
      "metadata": {
        "id": "hGMPKd1yTlFi"
      },
      "execution_count": 16,
      "outputs": []
    },
    {
      "cell_type": "code",
      "source": [
        "import pandas as pd\n",
        "\n",
        "health_df = pd.read_csv('health_monitoring.csv')\n",
        "safety_df = pd.read_csv('safety_monitoring.csv')\n",
        "reminder_df = pd.read_csv('daily_reminder.csv')\n"
      ],
      "metadata": {
        "id": "4UglfhgnT4xo"
      },
      "execution_count": 17,
      "outputs": []
    },
    {
      "cell_type": "code",
      "execution_count": 18,
      "metadata": {
        "id": "syV-RkOqS85D"
      },
      "outputs": [],
      "source": [
        "class AgentBase:\n",
        "    def __init__(self, name):\n",
        "        self.name = name\n",
        "\n",
        "    def run(self, data):\n",
        "        raise NotImplementedError(\"Each agent must implement its own run method.\")\n"
      ]
    },
    {
      "cell_type": "code",
      "source": [
        "class HealthMonitoringAgent(AgentBase):\n",
        "    def run(self, health_df):\n",
        "        def analyze(row):\n",
        "            alerts = []\n",
        "            if row[\"Heart Rate Below/Above Threshold (Yes/No)\"] == \"Yes\":\n",
        "                alerts.append(\"Heart Rate Alert\")\n",
        "            if row[\"Blood Pressure Below/Above Threshold (Yes/No)\"] == \"Yes\":\n",
        "                alerts.append(\"Blood Pressure Alert\")\n",
        "            if row[\"Glucose Levels Below/Above Threshold (Yes/No)\"] == \"Yes\":\n",
        "                alerts.append(\"Glucose Alert\")\n",
        "            if row[\"SpO₂ Below Threshold (Yes/No)\"] == \"Yes\":\n",
        "                alerts.append(\"Low SpO₂\")\n",
        "            return alerts if alerts else [\"Normal\"]\n",
        "\n",
        "        health_df[\"Health Alerts\"] = health_df.apply(analyze, axis=1)\n",
        "        return health_df\n"
      ],
      "metadata": {
        "id": "O0NGBUTmS_lJ"
      },
      "execution_count": 19,
      "outputs": []
    },
    {
      "cell_type": "code",
      "source": [
        "class SafetyMonitoringAgent(AgentBase):\n",
        "    def run(self, safety_df):\n",
        "        def check(row):\n",
        "            if row[\"Fall Detected (Yes/No)\"] == \"Yes\" or row[\"Post-Fall Inactivity Duration (Seconds)\"] > 60:\n",
        "                return \"Safety Alert\"\n",
        "            return \"Safe\"\n",
        "\n",
        "        safety_df[\"Safety Status\"] = safety_df.apply(check, axis=1)\n",
        "        return safety_df\n"
      ],
      "metadata": {
        "id": "41Kj7wyyTFZa"
      },
      "execution_count": 20,
      "outputs": []
    },
    {
      "cell_type": "code",
      "source": [
        "class ReminderAgent(AgentBase):\n",
        "    def run(self, reminder_df):\n",
        "        def evaluate(row):\n",
        "            if row[\"Reminder Sent (Yes/No)\"] == \"Yes\" and row[\"Acknowledged (Yes/No)\"] == \"No\":\n",
        "                return \"Ignored\"\n",
        "            elif row[\"Reminder Sent (Yes/No)\"] == \"No\":\n",
        "                return \"Not Sent\"\n",
        "            return \"Acknowledged\"\n",
        "\n",
        "        reminder_df[\"Reminder Status\"] = reminder_df.apply(evaluate, axis=1)\n",
        "        return reminder_df\n"
      ],
      "metadata": {
        "id": "dXLu_xrfTH04"
      },
      "execution_count": 21,
      "outputs": []
    },
    {
      "cell_type": "code",
      "source": [
        "class CoordinatorAgent:\n",
        "    def __init__(self, agents):\n",
        "        self.agents = agents\n",
        "\n",
        "    def coordinate(self, datasets):\n",
        "        results = {}\n",
        "        for agent in self.agents:\n",
        "            print(f\"Running {agent.name}...\")\n",
        "            results[agent.name] = agent.run(datasets[agent.name])\n",
        "        return results\n"
      ],
      "metadata": {
        "id": "okFsMXoVTJIh"
      },
      "execution_count": 22,
      "outputs": []
    },
    {
      "cell_type": "code",
      "source": [
        "# Initialize agents\n",
        "health_agent = HealthMonitoringAgent(\"health_df\")\n",
        "safety_agent = SafetyMonitoringAgent(\"safety_df\")\n",
        "reminder_agent = ReminderAgent(\"reminder_df\")\n",
        "\n",
        "# Pass to coordinator\n",
        "coordinator = CoordinatorAgent([health_agent, safety_agent, reminder_agent])\n",
        "\n",
        "# Prepare datasets\n",
        "datasets = {\n",
        "    \"health_df\": health_df,\n",
        "    \"safety_df\": safety_df,\n",
        "    \"reminder_df\": reminder_df\n",
        "}\n",
        "\n",
        "# Run coordination\n",
        "results = coordinator.coordinate(datasets)\n",
        "\n",
        "# You can now access:\n",
        "# results[\"health_df\"], results[\"safety_df\"], results[\"reminder_df\"]\n"
      ],
      "metadata": {
        "colab": {
          "base_uri": "https://localhost:8080/",
          "height": 0
        },
        "id": "nnHJFi6WTL5z",
        "outputId": "57585495-f205-4b22-efd4-47464cf88b2b"
      },
      "execution_count": 24,
      "outputs": [
        {
          "output_type": "stream",
          "name": "stdout",
          "text": [
            "Running health_df...\n",
            "Running safety_df...\n",
            "Running reminder_df...\n"
          ]
        }
      ]
    }
  ]
}